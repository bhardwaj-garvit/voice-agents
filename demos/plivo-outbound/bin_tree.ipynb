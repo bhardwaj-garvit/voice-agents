{
 "cells": [
  {
   "cell_type": "code",
   "execution_count": 3,
   "id": "705255aa",
   "metadata": {},
   "outputs": [],
   "source": [
    "bfs_traversal = [1,2,3,None,5,None,4]"
   ]
  },
  {
   "cell_type": "code",
   "execution_count": 6,
   "id": "02257f9e",
   "metadata": {},
   "outputs": [],
   "source": [
    "class Node:\n",
    "    def __init__(self, value, right=None, left=None):\n",
    "        self.value = value\n",
    "        self.left = None\n",
    "        self.right = None\n",
    "\n",
    "class BinaryTree:\n",
    "    def __init__(self, value, right=None, left=None):\n",
    "        self.root = Node(value, right, left)\n",
    "\n",
    "    def build_tree(self, bfs_traversal):\n",
    "        if not bfs_traversal:\n",
    "            return None\n",
    "        \n",
    "        nodes = [Node(value) if value is not None else None for value in bfs_traversal]\n",
    "        n = len(nodes)\n",
    "        \n",
    "        for i in range(n):\n",
    "            if nodes[i] is not None:\n",
    "                if 2 * i + 1 < n:\n",
    "                    nodes[i].left = nodes[2 * i + 1]\n",
    "                if 2 * i + 2 < n:\n",
    "                    nodes[i].right = nodes[2 * i + 2]\n",
    "        \n",
    "        self.root = nodes[0] if nodes else None\n",
    "        return self.root\n",
    "    \n",
    "    def print_right_view(self):\n",
    "        if not self.root:\n",
    "            return []\n",
    "        \n",
    "        right_view = []\n",
    "        queue = [(self.root, 0)]\n",
    "        last_level = -1\n",
    "        \n",
    "        while queue:\n",
    "            node, level = queue.pop(0)\n",
    "            if level > last_level:\n",
    "                right_view.append(node.value)\n",
    "                last_level = level\n",
    "            \n",
    "            if node.right:\n",
    "                queue.append((node.right, level + 1))\n",
    "            if node.left:\n",
    "                queue.append((node.left, level + 1))\n",
    "        \n",
    "        return right_view\n",
    "\n",
    "    def get_root_node(self):\n",
    "        return self.root"
   ]
  },
  {
   "cell_type": "code",
   "execution_count": 18,
   "id": "1ed85e7f",
   "metadata": {},
   "outputs": [],
   "source": [
    "# Example usage\n",
    "tree = BinaryTree(bfs_traversal[0])\n",
    "root = tree.build_tree(bfs_traversal)"
   ]
  },
  {
   "cell_type": "code",
   "execution_count": 19,
   "id": "999ac7c6",
   "metadata": {},
   "outputs": [
    {
     "data": {
      "text/plain": [
       "<__main__.Node at 0x106c9dfd0>"
      ]
     },
     "execution_count": 19,
     "metadata": {},
     "output_type": "execute_result"
    }
   ],
   "source": [
    "# root_node = tree.get_root_node()\n",
    "root.right"
   ]
  },
  {
   "cell_type": "code",
   "execution_count": 16,
   "id": "ed109655",
   "metadata": {},
   "outputs": [],
   "source": [
    "root_node = tree.root"
   ]
  },
  {
   "cell_type": "code",
   "execution_count": 17,
   "id": "56ac0dcc",
   "metadata": {},
   "outputs": [
    {
     "data": {
      "text/plain": [
       "<__main__.Node at 0x106497a50>"
      ]
     },
     "execution_count": 17,
     "metadata": {},
     "output_type": "execute_result"
    }
   ],
   "source": [
    "root_node.right"
   ]
  },
  {
   "cell_type": "code",
   "execution_count": null,
   "id": "c23fd5a0",
   "metadata": {},
   "outputs": [],
   "source": [
    "\n",
    "right_view = tree.print_right_view()\n",
    "\n",
    "print(\"Right view of the binary tree:\", right_view)"
   ]
  }
 ],
 "metadata": {
  "kernelspec": {
   "display_name": "base",
   "language": "python",
   "name": "python3"
  },
  "language_info": {
   "codemirror_mode": {
    "name": "ipython",
    "version": 3
   },
   "file_extension": ".py",
   "mimetype": "text/x-python",
   "name": "python",
   "nbconvert_exporter": "python",
   "pygments_lexer": "ipython3",
   "version": "3.11.7"
  }
 },
 "nbformat": 4,
 "nbformat_minor": 5
}
